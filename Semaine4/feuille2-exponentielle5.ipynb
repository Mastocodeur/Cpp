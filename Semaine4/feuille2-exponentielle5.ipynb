{
 "cells": [
  {
   "cell_type": "markdown",
   "metadata": {
    "nbgrader": {
     "grade": false,
     "grade_id": "cell-a5a96caf0e3314b2",
     "locked": true,
     "schema_version": 1,
     "solution": false
    }
   },
   "source": [
    "\n",
    "# TP 4 - Implanter la fonction exponentielle"
   ]
  },
  {
   "cell_type": "markdown",
   "metadata": {
    "nbgrader": {
     "grade": false,
     "grade_id": "cell-bc097d26c9102dde",
     "locked": true,
     "schema_version": 1,
     "solution": false
    }
   },
   "source": [
    "## Partie 5 : Optimisation $\\clubsuit$\n",
    "\n",
    "Dans ce cas précis, il n'est pas très efficace de réutiliser les fonctions `puissance` et `factorielle` : on effectue les calculs plusieurs fois ! En effet pour calculer $x^{r+1}$ on doit à nouveau calculer $x^r$. "
   ]
  },
  {
   "cell_type": "markdown",
   "metadata": {
    "nbgrader": {
     "grade": false,
     "grade_id": "cell-6d56e4530ad5eb9d",
     "locked": true,
     "schema_version": 1,
     "solution": false
    }
   },
   "source": [
    "Copier-coller ici les fonctions `abs` et `egal` de la [partie 3](feuille2-exponentielle3.ipynb):"
   ]
  },
  {
   "cell_type": "code",
   "execution_count": 1,
   "metadata": {
    "nbgrader": {
     "grade": false,
     "grade_id": "cell-11c71a2c606e0da6",
     "locked": false,
     "schema_version": 1,
     "solution": true
    }
   },
   "outputs": [],
   "source": [
    "double abs(double x) {\n",
    "    if (x > 0) {\n",
    "        return x;\n",
    "    } else {\n",
    "        return -x;\n",
    "    }\n",
    "}\n",
    "\n"
   ]
  },
  {
   "cell_type": "code",
   "execution_count": 2,
   "metadata": {
    "nbgrader": {
     "grade": false,
     "grade_id": "cell-f8b3f1f99b27afb6",
     "locked": false,
     "schema_version": 1,
     "solution": true
    }
   },
   "outputs": [],
   "source": [
    "bool egal(double x, double y, double E){\n",
    "    if (abs(x-y)<= E*abs(x) and abs(x-y)<= E*abs(y)){\n",
    "        return true;\n",
    "    }else{\n",
    "        return false;\n",
    "    }\n",
    "    \n",
    "}"
   ]
  },
  {
   "cell_type": "markdown",
   "metadata": {},
   "source": [
    "Compléter la fonction ci-dessous qui calcule l'exponentielle à précision donnée **sans** utiliser de fonction annexe (sauf `egal`), et en procédant de façon plus efficace. Pour cela, vous aurez besoin de trois variables d'accumulations : celle de la puissance, celle de la factorielle et celle de l'exponentielle."
   ]
  },
  {
   "cell_type": "code",
   "execution_count": 4,
   "metadata": {
    "nbgrader": {
     "grade": false,
     "grade_id": "cell-303a8716a80dcc32",
     "locked": false,
     "schema_version": 1,
     "solution": true
    }
   },
   "outputs": [],
   "source": [
    "/** Calcul rapide de la fonction exponentielle à précision donnée\n",
    " * @param x un nombre de type double\n",
    " * @param epsilon un nombre de type double\n",
    " * @return e^x avec précision epsilon\n",
    "**/\n",
    "double expRapide(double x, double epsilon) {\n",
    "    double sum = 1;\n",
    "    double fact = 1;\n",
    "    double pow = 1;\n",
    "    double sumPreced = sum;\n",
    "    for(int i=1;i<=epsilon;i++){\n",
    "        sumPreced=sum;\n",
    "        fact=fact*i;\n",
    "        pow=pow*x;\n",
    "        sum=sum+(pow/fact);\n",
    "        if(sumPreced == sum){\n",
    "            i=epsilon+1;  \n",
    "        }else{\n",
    "            epsilon=epsilon+1;\n",
    "        }\n",
    "    }\n",
    "    return sum;\n",
    "}"
   ]
  },
  {
   "cell_type": "code",
   "execution_count": 5,
   "metadata": {
    "nbgrader": {
     "grade": false,
     "grade_id": "cell-c96d4c17c02ce941",
     "locked": true,
     "schema_version": 1,
     "solution": false
    }
   },
   "outputs": [
    {
     "data": {
      "text/plain": [
       "1\n",
       "type: double"
      ]
     },
     "execution_count": 5,
     "metadata": {},
     "output_type": "execute_result"
    }
   ],
   "source": [
    "expRapide(5,0.000000001) // 148.413159"
   ]
  },
  {
   "cell_type": "code",
   "execution_count": 6,
   "metadata": {
    "nbgrader": {
     "grade": false,
     "grade_id": "cell-733b09f1d02a12cf",
     "locked": true,
     "schema_version": 1,
     "solution": false
    }
   },
   "outputs": [
    {
     "data": {
      "text/plain": [
       "1\n",
       "type: double"
      ]
     },
     "execution_count": 6,
     "metadata": {},
     "output_type": "execute_result"
    }
   ],
   "source": [
    "expRapide(3,0.000000001) // 20.085537"
   ]
  },
  {
   "cell_type": "code",
   "execution_count": 7,
   "metadata": {
    "nbgrader": {
     "grade": false,
     "grade_id": "cell-54872c873b619fe1",
     "locked": true,
     "schema_version": 1,
     "solution": false
    }
   },
   "outputs": [
    {
     "data": {
      "text/plain": [
       "1\n",
       "type: double"
      ]
     },
     "execution_count": 7,
     "metadata": {},
     "output_type": "execute_result"
    }
   ],
   "source": [
    "expRapide(1,0.000000001) // 2.718282"
   ]
  },
  {
   "cell_type": "markdown",
   "metadata": {
    "nbgrader": {
     "grade": false,
     "grade_id": "cell-765bea92acc94ff3",
     "locked": true,
     "schema_version": 1,
     "solution": false
    }
   },
   "source": [
    "Est-ce vraiment plus rapide? Utilisons à nouveau `timeit`:"
   ]
  },
  {
   "cell_type": "code",
   "execution_count": null,
   "metadata": {},
   "outputs": [],
   "source": [
    "%timeit expRapide(10, 0.00000001);"
   ]
  },
  {
   "cell_type": "markdown",
   "metadata": {
    "nbgrader": {
     "grade": false,
     "grade_id": "cell-54073acf05987882",
     "locked": true,
     "schema_version": 1,
     "solution": false
    }
   },
   "source": [
    "## Bilan\n",
    "\n",
    "Vous avez maintenant une implantation nettement plus rapide de la fonction exponentielle.\n",
    "Faut il pour autant toujours tout réimplanter plutôt que de réutiliser? Non, surtout pas:\n",
    "\n",
    "*«Early optimisation is the root of all evil»* (Donald Knuth)\n",
    "\n",
    "Ici, on pourrait par exemple obtenir les même performances sans duplication de code par *mémoisation* (conserver les valeurs déjà calculées de $n!$ et $x^n$ pour éviter de les recalculer). En général, c'est à traiter au cas par cas, en tenant compte du compromis entre temps de dévelopement et performances requises, des questions de complexité (cf cours à venir), etc."
   ]
  },
  {
   "cell_type": "markdown",
   "metadata": {
    "nbgrader": {
     "grade": false,
     "grade_id": "cell-c367cfa1df22e874",
     "locked": true,
     "schema_version": 1,
     "solution": false
    }
   },
   "source": [
    "Vous pouvez maintenant passer à la suite du TP."
   ]
  }
 ],
 "metadata": {
  "celltoolbar": "Create Assignment",
  "kernelspec": {
   "display_name": "C++11",
   "language": "C++11",
   "name": "xeus-cling-cpp11"
  },
  "language_info": {
   "codemirror_mode": "text/x-c++src",
   "file_extension": ".cpp",
   "mimetype": "text/x-c++src",
   "name": "c++",
   "version": "-std=c++11"
  }
 },
 "nbformat": 4,
 "nbformat_minor": 2
}
