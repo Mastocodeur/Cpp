{
 "cells": [
  {
   "cell_type": "markdown",
   "metadata": {
    "nbgrader": {
     "grade": false,
     "grade_id": "cell-9aacd071eecda33d",
     "locked": true,
     "schema_version": 1,
     "solution": false
    }
   },
   "source": [
    "\n",
    "# TP4 - Implanter la fonction exponentielle"
   ]
  },
  {
   "cell_type": "markdown",
   "metadata": {
    "nbgrader": {
     "grade": false,
     "grade_id": "cell-fd5a373907e22622",
     "locked": true,
     "schema_version": 1,
     "solution": false
    }
   },
   "source": [
    "## Partie 4  : Calcul de l'exponentielle avec une précision relative fixée $\\clubsuit$"
   ]
  },
  {
   "cell_type": "markdown",
   "metadata": {
    "nbgrader": {
     "grade": false,
     "grade_id": "cell-0749edc234488c4e",
     "locked": true,
     "schema_version": 1,
     "solution": false
    }
   },
   "source": [
    "On cherche maintenant à calculer l'exponentielle en fixant la *précision* et non plus le rang."
   ]
  },
  {
   "cell_type": "markdown",
   "metadata": {
    "nbgrader": {
     "grade": false,
     "grade_id": "cell-3e4cb5925b030399",
     "locked": true,
     "schema_version": 1,
     "solution": false
    }
   },
   "source": [
    "Commencer par copier-coller dans les quatre cellules suivantes vos fonctions `puissance` et `factorielle` de la [partie 1](feuille2-exponentielle.ipynb) ainsi que `abs` et `egal` de la [partie 3](feuille3-exponentielle.ipynb):"
   ]
  },
  {
   "cell_type": "code",
   "execution_count": 1,
   "metadata": {
    "nbgrader": {
     "grade": false,
     "grade_id": "cell-26c2f80b0554f206",
     "locked": false,
     "schema_version": 1,
     "solution": true
    }
   },
   "outputs": [],
   "source": [
    "double puissance(double x, int n) {\n",
    "    double resultat=1;\n",
    "    for(int i=1;i<=n;i++){\n",
    "        resultat=resultat*x;\n",
    "    }\n",
    "    return resultat;\n",
    "\n",
    "}\n",
    "\n"
   ]
  },
  {
   "cell_type": "code",
   "execution_count": 2,
   "metadata": {
    "nbgrader": {
     "grade": false,
     "grade_id": "cell-7e5ba48349f32c00",
     "locked": false,
     "schema_version": 1,
     "solution": true
    }
   },
   "outputs": [],
   "source": [
    "double factorielle(double n) {\n",
    "    double resultat=1;\n",
    "    for(int i = 1; i<=n ;i++){\n",
    "        resultat=resultat*i;\n",
    "    }\n",
    "    return resultat;\n",
    "}\n",
    "\n"
   ]
  },
  {
   "cell_type": "code",
   "execution_count": 3,
   "metadata": {
    "nbgrader": {
     "grade": false,
     "grade_id": "cell-40ce2ba5515a4b3f",
     "locked": false,
     "schema_version": 1,
     "solution": true
    }
   },
   "outputs": [],
   "source": [
    "double abs(double x) {\n",
    "    if (x > 0) {\n",
    "        return x;\n",
    "    } else {\n",
    "        return -x;\n",
    "    }\n",
    "}\n",
    "\n"
   ]
  },
  {
   "cell_type": "code",
   "execution_count": 4,
   "metadata": {
    "nbgrader": {
     "grade": false,
     "grade_id": "cell-5658ebbda24de111",
     "locked": false,
     "schema_version": 1,
     "solution": true
    }
   },
   "outputs": [],
   "source": [
    "bool egal(double x, double y, double E){\n",
    "    if (abs(x-y)<= E*abs(x) and abs(x-y)<= E*abs(y)){\n",
    "        return true;\n",
    "    }else{\n",
    "        return false;\n",
    "    }\n",
    "    \n",
    "}\n",
    "\n"
   ]
  },
  {
   "cell_type": "code",
   "execution_count": 12,
   "metadata": {},
   "outputs": [],
   "source": [
    "double expRang(double x, int r) {\n",
    "    double resultat =1;\n",
    "    for(int k=1;k<=r;k++){\n",
    "        resultat=resultat+puissance(x,k)/factorielle(k);\n",
    "    }\n",
    "        return resultat;\n",
    "\n",
    "}"
   ]
  },
  {
   "cell_type": "markdown",
   "metadata": {
    "nbgrader": {
     "grade": false,
     "grade_id": "cell-d6b02ebdc5e27637",
     "locked": true,
     "schema_version": 1,
     "solution": false
    }
   },
   "source": [
    "Implanter la fonction suivante qui somme les valeurs $\\frac{x^i}{i!}$ jusqu'à ce que le résultat soit égal au précédent par rapport à la précision donnée."
   ]
  },
  {
   "cell_type": "code",
   "execution_count": 13,
   "metadata": {
    "nbgrader": {
     "grade": false,
     "grade_id": "cell-5b6857150b2f0d95",
     "locked": false,
     "schema_version": 1,
     "solution": true
    }
   },
   "outputs": [],
   "source": [
    "/** Calcul de la fonction exponentielle à precision fixée\n",
    " * @param x un nombre de type double\n",
    " * @param epsilon un nombre de type double\n",
    " * @return e^x avec précision epsilon\n",
    "**/\n",
    "double expPrecision(double x, double epsilon) {\n",
    "    int i=0;\n",
    "    while(egal(expRang(x,i),expRang(x, i+1), epsilon)==false){\n",
    "        i=i+1;\n",
    "    }\n",
    "    return expRang(x,i);\n",
    "}"
   ]
  },
  {
   "cell_type": "code",
   "execution_count": 14,
   "metadata": {
    "nbgrader": {
     "grade": false,
     "grade_id": "cell-4fb64a4278d2ce62",
     "locked": true,
     "schema_version": 1,
     "solution": false
    }
   },
   "outputs": [
    {
     "data": {
      "text/plain": [
       "148.413\n",
       "type: double"
      ]
     },
     "execution_count": 14,
     "metadata": {},
     "output_type": "execute_result"
    }
   ],
   "source": [
    "expPrecision(5,0.000000001) // doit valoir 148.413159"
   ]
  },
  {
   "cell_type": "code",
   "execution_count": 15,
   "metadata": {
    "nbgrader": {
     "grade": false,
     "grade_id": "cell-9841d2b60ca74549",
     "locked": true,
     "schema_version": 1,
     "solution": false
    }
   },
   "outputs": [
    {
     "data": {
      "text/plain": [
       "20.0855\n",
       "type: double"
      ]
     },
     "execution_count": 15,
     "metadata": {},
     "output_type": "execute_result"
    }
   ],
   "source": [
    "expPrecision(3,0.000000001) // doit valoir 20.085537"
   ]
  },
  {
   "cell_type": "code",
   "execution_count": 16,
   "metadata": {
    "nbgrader": {
     "grade": false,
     "grade_id": "cell-7c1f3a734b045e41",
     "locked": true,
     "schema_version": 1,
     "solution": false
    }
   },
   "outputs": [
    {
     "data": {
      "text/plain": [
       "2.71828\n",
       "type: double"
      ]
     },
     "execution_count": 16,
     "metadata": {},
     "output_type": "execute_result"
    }
   ],
   "source": [
    "expPrecision(1,0.000000001) // doit valoir 2.718282"
   ]
  },
  {
   "cell_type": "markdown",
   "metadata": {
    "nbgrader": {
     "grade": false,
     "grade_id": "cell-f14c9177d33e54ce",
     "locked": true,
     "schema_version": 1,
     "solution": false
    }
   },
   "source": [
    "Comparez vos résultat avec la fonction `exp` de C++ définie dans `cmath`"
   ]
  },
  {
   "cell_type": "code",
   "execution_count": 18,
   "metadata": {
    "nbgrader": {
     "grade": false,
     "grade_id": "cell-2586899de62aebf4",
     "locked": true,
     "schema_version": 1,
     "solution": false
    }
   },
   "outputs": [],
   "source": [
    "#include <cmath>"
   ]
  },
  {
   "cell_type": "code",
   "execution_count": 19,
   "metadata": {},
   "outputs": [
    {
     "data": {
      "text/plain": [
       "148.413\n",
       "type: double"
      ]
     },
     "execution_count": 19,
     "metadata": {},
     "output_type": "execute_result"
    }
   ],
   "source": [
    "exp(5)"
   ]
  },
  {
   "cell_type": "code",
   "execution_count": 20,
   "metadata": {},
   "outputs": [
    {
     "data": {
      "text/plain": [
       "20.0855\n",
       "type: double"
      ]
     },
     "execution_count": 20,
     "metadata": {},
     "output_type": "execute_result"
    }
   ],
   "source": [
    "exp(3)"
   ]
  },
  {
   "cell_type": "markdown",
   "metadata": {
    "nbgrader": {
     "grade": false,
     "grade_id": "cell-9b25311fb953a3d7",
     "locked": true,
     "schema_version": 1,
     "solution": false
    }
   },
   "source": [
    "## Bilan de la partie 4\n",
    "Très bien, vous avez implanté le calcul de la fonction exponentielle à précision fixée. Maintenant étudions sa performance:"
   ]
  },
  {
   "cell_type": "code",
   "execution_count": 21,
   "metadata": {},
   "outputs": [
    {
     "name": "stdout",
     "output_type": "stream",
     "text": [
      "66.4 us +- 175 ns per loop (mean +- std. dev. of 7 runs 10000 loops each)\n"
     ]
    }
   ],
   "source": [
    "%timeit expPrecision(10, 0.00000001);"
   ]
  },
  {
   "cell_type": "markdown",
   "metadata": {
    "nbgrader": {
     "grade": false,
     "grade_id": "cell-44bb7d35a9655256",
     "locked": true,
     "schema_version": 1,
     "solution": false
    }
   },
   "source": [
    " Dans la [partie 5](feuille2-exponentielle5.ipynb), vous tenterez d'optimiser cette implantation."
   ]
  }
 ],
 "metadata": {
  "celltoolbar": "Create Assignment",
  "kernelspec": {
   "display_name": "C++11",
   "language": "C++11",
   "name": "xeus-cling-cpp11"
  },
  "language_info": {
   "codemirror_mode": "text/x-c++src",
   "file_extension": ".cpp",
   "mimetype": "text/x-c++src",
   "name": "c++",
   "version": "-std=c++11"
  }
 },
 "nbformat": 4,
 "nbformat_minor": 2
}
