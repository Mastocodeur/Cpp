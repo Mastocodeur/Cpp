{
 "cells": [
  {
   "cell_type": "markdown",
   "metadata": {
    "nbgrader": {
     "grade": false,
     "grade_id": "cell-a7cb2ec64ca805b6",
     "locked": true,
     "schema_version": 1,
     "solution": false
    }
   },
   "source": [
    "# TP 4 - Implanter la fonction exponentielle"
   ]
  },
  {
   "cell_type": "markdown",
   "metadata": {
    "nbgrader": {
     "grade": false,
     "grade_id": "cell-dfc454aa3b53f790",
     "locked": true,
     "schema_version": 1,
     "solution": false
    }
   },
   "source": [
    "## Partie 2 : Calculer une somme infinie ?\n",
    "\n",
    "La définition mathématique de l'exponentielle suppose de calculer une *somme infinie*. Ce n'est pas possible en pratique ! On propose donc d'implanter la fonction suivante qui calcule une *approximation* de la fonction exponentielle obtenue en tronquant la somme à un certain rang $r$:\n",
    "$$e^x \\approx \\sum_{n=0}^r \\frac{x^n}{n!}$$"
   ]
  },
  {
   "cell_type": "markdown",
   "metadata": {
    "nbgrader": {
     "grade": false,
     "grade_id": "cell-b916e98c49f6f97c",
     "locked": true,
     "schema_version": 1,
     "solution": false
    }
   },
   "source": [
    "Copier-coller dans les deux cellules suivantes vos fonctions `puissance` et `factorielle` de la [partie 1](feuille2-exponentielle.ipynb), puis compléter l'implantation de la fonction `exponentielle`."
   ]
  },
  {
   "cell_type": "code",
   "execution_count": 1,
   "metadata": {
    "nbgrader": {
     "grade": false,
     "grade_id": "cell-ed4b87cdbd09b4b1",
     "locked": false,
     "schema_version": 1,
     "solution": true
    }
   },
   "outputs": [],
   "source": [
    "double puissance(double x, int n) {\n",
    "    double resultat=1;\n",
    "    for(int i=1;i<=n;i++){\n",
    "        resultat=resultat*x;\n",
    "    }\n",
    "    return resultat;\n",
    "\n",
    "}\n"
   ]
  },
  {
   "cell_type": "code",
   "execution_count": 2,
   "metadata": {
    "nbgrader": {
     "grade": false,
     "grade_id": "cell-40704048f0f43a58",
     "locked": false,
     "schema_version": 1,
     "solution": true
    }
   },
   "outputs": [],
   "source": [
    "double factorielle(double n) {\n",
    "    double resultat=1;\n",
    "    for(int i = 1; i<=n ;i++){\n",
    "        resultat=resultat*i;\n",
    "    }\n",
    "    return resultat;\n",
    "}\n",
    "\n"
   ]
  },
  {
   "cell_type": "code",
   "execution_count": 3,
   "metadata": {
    "nbgrader": {
     "grade": false,
     "grade_id": "cell-583ab182274bf121",
     "locked": false,
     "schema_version": 1,
     "solution": true
    }
   },
   "outputs": [],
   "source": [
    "/** Exponentielle tronquée à un certain rang r\n",
    " * @param x un nombre à virgule flottante en double précision\n",
    " * @param r un nombre entier positif\n",
    " * @return 1 + x  + x^2/2 + x^3/3! + ...  + x^r/r!\n",
    "**/\n",
    "double expRang(double x, int r) {\n",
    "    double resultat =1;\n",
    "    for(int k=1;k<=r;k++){\n",
    "        resultat=resultat+puissance(x,k)/factorielle(k);\n",
    "    }\n",
    "        return resultat;\n",
    "\n",
    "}"
   ]
  },
  {
   "cell_type": "code",
   "execution_count": 4,
   "metadata": {},
   "outputs": [
    {
     "data": {
      "text/plain": [
       "6\n",
       "type: double"
      ]
     },
     "execution_count": 4,
     "metadata": {},
     "output_type": "execute_result"
    }
   ],
   "source": [
    "expRang(5,1)"
   ]
  },
  {
   "cell_type": "code",
   "execution_count": 4,
   "metadata": {
    "nbgrader": {
     "grade": false,
     "grade_id": "cell-98567fa0d69630d1",
     "locked": true,
     "schema_version": 1,
     "solution": false
    }
   },
   "outputs": [],
   "source": [
    "#include <iostream>\n",
    "#define ASSERT(C) if ( !(C) ) { std::cerr << \"Test failed: \"#C << std::endl; }"
   ]
  },
  {
   "cell_type": "code",
   "execution_count": 7,
   "metadata": {
    "nbgrader": {
     "grade": true,
     "grade_id": "cell-0841e8afc22ba740",
     "locked": true,
     "points": 1,
     "schema_version": 1,
     "solution": false
    }
   },
   "outputs": [],
   "source": [
    "ASSERT( expRang(6, 0) == 1  ) // 6^0/1\n",
    "ASSERT( expRang(6, 1) == 7  ) // 6^0/1 + 6/1\n",
    "ASSERT( expRang(6, 2) == 25 ) // 6^0/1 + 6/1 + 36/2\n",
    "ASSERT( expRang(6, 3) == 61 );//  6^0/1 + 6/1 + 36/2 + 36*6/6"
   ]
  },
  {
   "cell_type": "markdown",
   "metadata": {
    "nbgrader": {
     "grade": false,
     "grade_id": "cell-162792f03bec12d9",
     "locked": true,
     "schema_version": 1,
     "solution": false
    }
   },
   "source": [
    "Plus on augmente le rang, plus on se rapproche de la valeur de $e^5=148.413\\cdots$.\n",
    "\n",
    "Dans la cellule ci-dessous, **augmenter le rang jusqu'à ce que la valeur affichée ne change plus** (la valeur ajoutée est trop petite pour changer l'affichage)"
   ]
  },
  {
   "cell_type": "code",
   "execution_count": 11,
   "metadata": {
    "nbgrader": {
     "grade": false,
     "grade_id": "cell-c845f3c8812b2ff5",
     "locked": false,
     "schema_version": 1,
     "solution": true
    }
   },
   "outputs": [
    {
     "name": "stderr",
     "output_type": "stream",
     "text": [
      "\u001b[1minput_line_23:2:6: \u001b[0m\u001b[0;1;31merror: \u001b[0m\u001b[1mredefinition of 'r'\u001b[0m\n",
      " int r=0;\n",
      "\u001b[0;1;32m     ^\n",
      "\u001b[0m\u001b[1minput_line_19:2:6: \u001b[0m\u001b[0;1;30mnote: \u001b[0mprevious definition is here\u001b[0m\n",
      " int r=0;\n",
      "\u001b[0;1;32m     ^\n",
      "\u001b[0m"
     ]
    },
    {
     "ename": "Interpreter Error",
     "evalue": "",
     "output_type": "error",
     "traceback": [
      "Interpreter Error: "
     ]
    }
   ],
   "source": [
    "int r=0;\n",
    "while (expRang(5, r)!=expRang(5, r+1)){\n",
    "    r=r+1;\n",
    "}\n"
   ]
  },
  {
   "cell_type": "markdown",
   "metadata": {
    "nbgrader": {
     "grade": false,
     "grade_id": "cell-b586c5b168fc5914",
     "locked": true,
     "schema_version": 1,
     "solution": false
    }
   },
   "source": [
    "Calculer maintenant une approximation de la valeur de $e^{10}=22026.46\\cdots$ avec le même rang:"
   ]
  },
  {
   "cell_type": "code",
   "execution_count": 10,
   "metadata": {
    "nbgrader": {
     "grade": false,
     "grade_id": "cell-586d52cbad6530df",
     "locked": false,
     "schema_version": 1,
     "solution": true
    }
   },
   "outputs": [
    {
     "data": {
      "text/plain": [
       "32\n",
       "type: int"
      ]
     },
     "execution_count": 10,
     "metadata": {},
     "output_type": "execute_result"
    }
   ],
   "source": [
    "r"
   ]
  },
  {
   "cell_type": "code",
   "execution_count": 12,
   "metadata": {},
   "outputs": [
    {
     "data": {
      "text/plain": [
       "148.413\n",
       "type: double"
      ]
     },
     "execution_count": 12,
     "metadata": {},
     "output_type": "execute_result"
    }
   ],
   "source": [
    "expRang(5, r)"
   ]
  },
  {
   "cell_type": "code",
   "execution_count": 13,
   "metadata": {},
   "outputs": [
    {
     "data": {
      "text/plain": [
       "22026.5\n",
       "type: double"
      ]
     },
     "execution_count": 13,
     "metadata": {},
     "output_type": "execute_result"
    }
   ],
   "source": [
    "expRang(10, r)"
   ]
  },
  {
   "cell_type": "markdown",
   "metadata": {
    "nbgrader": {
     "grade": true,
     "grade_id": "cell-6e01d081ee0b9bd2",
     "locked": false,
     "points": 1,
     "schema_version": 1,
     "solution": true
    }
   },
   "source": [
    "Que constatez vous?\n",
    "\n",
    "\n",
    "Moins de chiffre après la virgule;\n",
    "Quand on compare avec les résulats à la calculatrice, on voit que les approximation sont très bonnes;"
   ]
  },
  {
   "cell_type": "markdown",
   "metadata": {
    "nbgrader": {
     "grade": false,
     "grade_id": "cell-e1f369de58992c8b",
     "locked": true,
     "schema_version": 1,
     "solution": false
    }
   },
   "source": [
    "Augmenter le rang jusqu'à ce que la valeur affichée ne change plus:"
   ]
  },
  {
   "cell_type": "code",
   "execution_count": 5,
   "metadata": {
    "nbgrader": {
     "grade": false,
     "grade_id": "cell-9ab12e4a0fe9cddb",
     "locked": false,
     "schema_version": 1,
     "solution": true
    },
    "scrolled": true
   },
   "outputs": [],
   "source": [
    "int r=0;\n",
    "while (expRang(10, r)!=expRang(10, r+1)){\n",
    "    r=r+1;\n",
    "}\n",
    "\n"
   ]
  },
  {
   "cell_type": "code",
   "execution_count": 6,
   "metadata": {},
   "outputs": [
    {
     "data": {
      "text/plain": [
       "45\n",
       "type: int"
      ]
     },
     "execution_count": 6,
     "metadata": {},
     "output_type": "execute_result"
    }
   ],
   "source": [
    "r"
   ]
  },
  {
   "cell_type": "markdown",
   "metadata": {
    "nbgrader": {
     "grade": false,
     "grade_id": "cell-c9a5001fba7bb1a4",
     "locked": true,
     "schema_version": 1,
     "solution": false
    }
   },
   "source": [
    "## Bilan de la partie 2\n",
    "Bravo, vous avez implanté une approximation de la fonction exponnentielle en tronquant sa formule à un certain rang. Cependant, au vu des exemples ci-dessus, l'utilisateur souhaiterait spécifier non pas le *rang*, mais la *précision* qu'il souhaite obtenir. Pour cela il faut d'abord formaliser cette idée de précision. C'est l'objet de la [partie 3](feuille2-exponentielle3.ipynb)."
   ]
  }
 ],
 "metadata": {
  "celltoolbar": "Create Assignment",
  "kernelspec": {
   "display_name": "C++11",
   "language": "C++11",
   "name": "xeus-cling-cpp11"
  },
  "language_info": {
   "codemirror_mode": "text/x-c++src",
   "file_extension": ".cpp",
   "mimetype": "text/x-c++src",
   "name": "c++",
   "version": "-std=c++11"
  }
 },
 "nbformat": 4,
 "nbformat_minor": 2
}
