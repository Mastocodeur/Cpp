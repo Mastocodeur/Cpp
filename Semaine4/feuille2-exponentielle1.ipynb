{
 "cells": [
  {
   "cell_type": "markdown",
   "metadata": {
    "nbgrader": {
     "grade": false,
     "grade_id": "cell-a1cea05ac1387514",
     "locked": true,
     "schema_version": 1,
     "solution": false
    }
   },
   "source": [
    "# TP 4 - Implanter la fonction exponentielle\n",
    "\n",
    "**Imaginez que vous développez la nouvelle librairie de fonctions mathématiques du `C++`.** Au départ, les seules opérations auxquelles vous avez le droit sont les *opérations arithmétiques usuelles* telles que `+` `*` `/` `%`. Notre but aujourd'hui est d'écrire la fonction qui calcule $e^x$. \n",
    "\n",
    "Pour cela, on utilise la définition de $e^x$ en tant que *série* (somme infinie) :\n",
    "\n",
    "$$e^x = \\sum_{n=0}^{+\\infty} \\frac{x^n}{n!} = 1 + x + \\frac{x^2}{2!} + \\frac{x^3}{3!} +\\cdots+\\frac{x^n}{n!}+\\cdots$$"
   ]
  },
  {
   "cell_type": "markdown",
   "metadata": {
    "nbgrader": {
     "grade": false,
     "grade_id": "cell-670b85df3798f432",
     "locked": true,
     "schema_version": 1,
     "solution": false
    }
   },
   "source": [
    "On remarque que l'on a besoin en particulier de calculer $x^n$ ainsi que $n!$. Ce sera l'objet de la première partie. Dans la partie 2, on calculera une approximation de la fonction exponnentielle en la tronquant à un nombre de terme fixé; par exemple:\n",
    "$$e^x \\approx 1+\\frac{x^2}{2}+\\frac{x^3}{6}$$\n",
    "\n",
    "La précision d'une telle approximation dépend beaucoup de la valeur de $x$. Dans la partie 4 on utilisera une méthode *adaptative*: on fixera cette fois la précision relative souhaitée et on calculera autant de termes que nécessaire pour atteindre cette précision. Pour cela on aura préalablement défini -- et implanté ! -- dans la partie 3 ce que l'on entend par précision relative."
   ]
  },
  {
   "cell_type": "markdown",
   "metadata": {
    "nbgrader": {
     "grade": false,
     "grade_id": "cell-8ce9f4aa74ff1ade",
     "locked": true,
     "schema_version": 1,
     "solution": false
    }
   },
   "source": [
    "## Partie 1 : Fonctions puissance et factorielle\n",
    "\n",
    "Le but de cette partie est de réécrire les fonctions `factorielle` et `puissance` vues en TD et de vérifier que l'on obtient bien les résultats attendus."
   ]
  },
  {
   "cell_type": "code",
   "execution_count": 7,
   "metadata": {
    "nbgrader": {
     "grade": false,
     "grade_id": "cell-26599ba8b0db5d2c",
     "locked": false,
     "schema_version": 1,
     "solution": true
    }
   },
   "outputs": [],
   "source": [
    "/** Factorielle\n",
    " * @param n un entier\n",
    " * @return la valeur n! en tant que double\n",
    "**/\n",
    "double factorielle(double n) {\n",
    "    double resultat=1;\n",
    "    for(int i = 1; i<=n ;i++){\n",
    "        resultat=resultat*i;\n",
    "    }\n",
    "    return resultat;\n",
    "}"
   ]
  },
  {
   "cell_type": "code",
   "execution_count": 3,
   "metadata": {},
   "outputs": [
    {
     "data": {
      "text/plain": [
       "120\n",
       "type: double"
      ]
     },
     "execution_count": 3,
     "metadata": {},
     "output_type": "execute_result"
    }
   ],
   "source": [
    "factorielle(5)"
   ]
  },
  {
   "cell_type": "code",
   "execution_count": 1,
   "metadata": {
    "nbgrader": {
     "grade": false,
     "grade_id": "cell-8a57a0e62825fb3e",
     "locked": true,
     "schema_version": 1,
     "solution": false
    }
   },
   "outputs": [],
   "source": [
    "#include <iostream>\n",
    "#define ASSERT(C) if ( !(C) ) { std::cerr << \"Test failed: \"#C << std::endl; }"
   ]
  },
  {
   "cell_type": "code",
   "execution_count": 5,
   "metadata": {
    "nbgrader": {
     "grade": true,
     "grade_id": "cell-b141e2a8fe5b4d49",
     "locked": true,
     "points": 1,
     "schema_version": 1,
     "solution": false
    }
   },
   "outputs": [],
   "source": [
    "ASSERT( factorielle(0) == 1   );   // Par convention mathématique\n",
    "ASSERT( factorielle(3) == 6   );\n",
    "ASSERT( factorielle(4) == 24  );\n",
    "ASSERT( factorielle(5) == 120 );\n",
    "// BEGIN HIDDEN TESTS\n",
    "ASSERT( factorielle(8) == 40320);\n",
    "// END HIDDEN TESTS"
   ]
  },
  {
   "cell_type": "markdown",
   "metadata": {
    "nbgrader": {
     "grade": false,
     "grade_id": "cell-4034b50f9054165a",
     "locked": true,
     "schema_version": 1,
     "solution": false
    }
   },
   "source": [
    "Vérifier l'ordre de grandeur du calcul suivant. Si la valeur est aberrante vérifier l'utilisation du type `double` à toutes les étapes du calcul."
   ]
  },
  {
   "cell_type": "code",
   "execution_count": 8,
   "metadata": {
    "nbgrader": {
     "grade": false,
     "grade_id": "cell-248a410c27f82b9c",
     "locked": true,
     "schema_version": 1,
     "solution": false
    }
   },
   "outputs": [
    {
     "data": {
      "text/plain": [
       "9.33262e+157\n",
       "type: double"
      ]
     },
     "execution_count": 8,
     "metadata": {},
     "output_type": "execute_result"
    }
   ],
   "source": [
    "factorielle(100)"
   ]
  },
  {
   "cell_type": "markdown",
   "metadata": {
    "nbgrader": {
     "grade": false,
     "grade_id": "cell-1a440314756d1d38",
     "locked": true,
     "schema_version": 1,
     "solution": false
    }
   },
   "source": [
    "Compléter la fonction `puissance` ci-dessous:"
   ]
  },
  {
   "cell_type": "code",
   "execution_count": 2,
   "metadata": {
    "nbgrader": {
     "grade": false,
     "grade_id": "cell-98509d177b22e222",
     "locked": false,
     "schema_version": 1,
     "solution": true
    }
   },
   "outputs": [],
   "source": [
    "/** Puissance\n",
    " * @param x un nombre de type double\n",
    " * @param n un entier\n",
    " * @return le nombre x^n de type double\n",
    "**/\n",
    "double puissance(double x, int n) {\n",
    "    double resultat=1;\n",
    "    for(int i=1;i<=n;i++){\n",
    "        resultat=resultat*x;\n",
    "    }\n",
    "    return resultat;\n",
    "\n",
    "}"
   ]
  },
  {
   "cell_type": "code",
   "execution_count": 3,
   "metadata": {},
   "outputs": [
    {
     "data": {
      "text/plain": [
       "16\n",
       "type: double"
      ]
     },
     "execution_count": 3,
     "metadata": {},
     "output_type": "execute_result"
    }
   ],
   "source": [
    "puissance(2, 4)"
   ]
  },
  {
   "cell_type": "code",
   "execution_count": 5,
   "metadata": {
    "nbgrader": {
     "grade": true,
     "grade_id": "cell-0c4baef17dc81ab9",
     "locked": true,
     "points": 1,
     "schema_version": 1,
     "solution": false
    }
   },
   "outputs": [],
   "source": [
    "ASSERT( puissance(1,  10) == 1     );\n",
    "ASSERT( puissance(2,   5) == 32    );\n",
    "ASSERT( puissance(1.5, 3) == 3.375 );\n"
   ]
  },
  {
   "cell_type": "markdown",
   "metadata": {
    "nbgrader": {
     "grade": false,
     "grade_id": "cell-471123af8e648bfb",
     "locked": true,
     "schema_version": 1,
     "solution": false
    }
   },
   "source": [
    "Ajouter des tests pour les cas limites: $x^0$, $0^r$, $0^0$:"
   ]
  },
  {
   "cell_type": "code",
   "execution_count": 8,
   "metadata": {
    "nbgrader": {
     "grade": false,
     "grade_id": "cell-a852e5dd3d8aeab1",
     "locked": false,
     "schema_version": 1,
     "solution": true
    }
   },
   "outputs": [],
   "source": [
    "ASSERT( puissance(5,  0) == 1     );\n",
    "ASSERT( puissance(0,   3) == 0    );\n",
    "ASSERT( puissance(0, 0) == 1 );\n"
   ]
  },
  {
   "cell_type": "markdown",
   "metadata": {
    "nbgrader": {
     "grade": false,
     "grade_id": "cell-b9ac4bd82bc4f381",
     "locked": true,
     "schema_version": 1,
     "solution": false
    }
   },
   "source": [
    "## Bilan de la partie 1\n",
    "Vous avez maintenant les prérequis pour implanter la fonction exponentielle.\n",
    "Vous pouvez maintenant passer à la [partie 2](feuille2-exponentielle2.ipynb)."
   ]
  }
 ],
 "metadata": {
  "celltoolbar": "Create Assignment",
  "kernelspec": {
   "display_name": "C++11",
   "language": "C++11",
   "name": "xeus-cling-cpp11"
  },
  "language_info": {
   "codemirror_mode": "text/x-c++src",
   "file_extension": ".cpp",
   "mimetype": "text/x-c++src",
   "name": "c++",
   "version": "-std=c++11"
  }
 },
 "nbformat": 4,
 "nbformat_minor": 2
}
